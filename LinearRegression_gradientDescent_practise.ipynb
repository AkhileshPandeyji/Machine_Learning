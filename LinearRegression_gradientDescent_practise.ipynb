{
 "cells": [
  {
   "cell_type": "code",
   "execution_count": 1,
   "metadata": {},
   "outputs": [],
   "source": [
    "import pandas as pd\n",
    "import numpy as np\n",
    "from scipy.stats import linregress\n",
    "from sklearn.linear_model import LinearRegression\n",
    "from sklearn.metrics import mean_squared_error,mean_absolute_error"
   ]
  },
  {
   "cell_type": "code",
   "execution_count": 2,
   "metadata": {},
   "outputs": [],
   "source": [
    "dataset = pd.read_csv('headbrain.csv')"
   ]
  },
  {
   "cell_type": "code",
   "execution_count": 3,
   "metadata": {},
   "outputs": [
    {
     "data": {
      "text/plain": [
       "Index(['Gender', 'Age Range', 'Head Size(cm^3)', 'Brain Weight(grams)'], dtype='object')"
      ]
     },
     "execution_count": 3,
     "metadata": {},
     "output_type": "execute_result"
    }
   ],
   "source": [
    "dataset.keys()"
   ]
  },
  {
   "cell_type": "code",
   "execution_count": 4,
   "metadata": {},
   "outputs": [
    {
     "data": {
      "text/plain": [
       "Index(['Gender', 'Age Range', 'Head Size(cm^3)', 'Brain Weight(grams)'], dtype='object')"
      ]
     },
     "execution_count": 4,
     "metadata": {},
     "output_type": "execute_result"
    }
   ],
   "source": [
    "dataset.columns"
   ]
  },
  {
   "cell_type": "code",
   "execution_count": 5,
   "metadata": {},
   "outputs": [],
   "source": [
    "X = dataset['Head Size(cm^3)'].values\n",
    "Y = dataset['Brain Weight(grams)'].values"
   ]
  },
  {
   "cell_type": "code",
   "execution_count": 6,
   "metadata": {},
   "outputs": [],
   "source": [
    "from sklearn.preprocessing import StandardScaler"
   ]
  },
  {
   "cell_type": "code",
   "execution_count": 7,
   "metadata": {},
   "outputs": [
    {
     "name": "stdout",
     "output_type": "stream",
     "text": [
      "[[ 2.40886829]\n",
      " [ 0.28535333]\n",
      " [ 1.72023489]\n",
      " [ 0.39235214]\n",
      " [ 1.4897759 ]\n",
      " [-0.13441126]\n",
      " [ 0.41430062]\n",
      " [-0.2057438 ]\n",
      " [-0.05759159]\n",
      " [ 0.95478182]]\n",
      "[[ 2.0579083 ]\n",
      " [ 0.11763692]\n",
      " [ 0.43407603]\n",
      " [-0.00727325]\n",
      " [ 2.557549  ]\n",
      " [ 0.14261896]\n",
      " [ 0.97535345]\n",
      " [-0.23211156]\n",
      " [ 0.60062293]\n",
      " [ 0.76716983]]\n"
     ]
    },
    {
     "name": "stderr",
     "output_type": "stream",
     "text": [
      "C:\\Users\\Akhilesh Kr. Pandey\\Anaconda3\\lib\\site-packages\\sklearn\\utils\\validation.py:595: DataConversionWarning: Data with input dtype int64 was converted to float64 by StandardScaler.\n",
      "  warnings.warn(msg, DataConversionWarning)\n",
      "C:\\Users\\Akhilesh Kr. Pandey\\Anaconda3\\lib\\site-packages\\sklearn\\utils\\validation.py:595: DataConversionWarning: Data with input dtype int64 was converted to float64 by StandardScaler.\n",
      "  warnings.warn(msg, DataConversionWarning)\n",
      "C:\\Users\\Akhilesh Kr. Pandey\\Anaconda3\\lib\\site-packages\\sklearn\\utils\\validation.py:595: DataConversionWarning: Data with input dtype int64 was converted to float64 by StandardScaler.\n",
      "  warnings.warn(msg, DataConversionWarning)\n",
      "C:\\Users\\Akhilesh Kr. Pandey\\Anaconda3\\lib\\site-packages\\sklearn\\utils\\validation.py:595: DataConversionWarning: Data with input dtype int64 was converted to float64 by StandardScaler.\n",
      "  warnings.warn(msg, DataConversionWarning)\n"
     ]
    }
   ],
   "source": [
    "sc = StandardScaler()\n",
    "X = sc.fit_transform(X.reshape(-1,1))\n",
    "Y = sc.fit_transform(Y.reshape(-1,1))\n",
    "print(X[0:10])\n",
    "print(Y[:10])"
   ]
  },
  {
   "cell_type": "code",
   "execution_count": 8,
   "metadata": {},
   "outputs": [
    {
     "name": "stdout",
     "output_type": "stream",
     "text": [
      "[0.79956971] [-3.32754921e-16]\n"
     ]
    }
   ],
   "source": [
    "slope = 0 \n",
    "intercept = 0\n",
    "alpha = 0.001\n",
    "epochs = 10000\n",
    "n = len(X)\n",
    "\n",
    "for i in range(epochs):\n",
    "    y_pred = slope * X + intercept\n",
    "    D_slope = (-2/n)*sum(X*(Y-y_pred))\n",
    "    D_intercept = (-2/n)*sum(Y-y_pred)\n",
    "    \n",
    "    slope = slope - (alpha*D_slope)\n",
    "    intercept = intercept - (alpha*D_intercept)\n",
    "    #print(slope,intercept)\n",
    "    \n",
    "print(slope,intercept)"
   ]
  },
  {
   "cell_type": "code",
   "execution_count": 9,
   "metadata": {},
   "outputs": [],
   "source": [
    "pred = slope*X + intercept "
   ]
  },
  {
   "cell_type": "code",
   "execution_count": 10,
   "metadata": {},
   "outputs": [],
   "source": [
    "y_pred_trans = sc.inverse_transform(pred)"
   ]
  },
  {
   "cell_type": "code",
   "execution_count": 11,
   "metadata": {},
   "outputs": [],
   "source": [
    "X_trans = sc.inverse_transform(X)\n",
    "Y_trans = sc.inverse_transform(Y)"
   ]
  },
  {
   "cell_type": "code",
   "execution_count": 12,
   "metadata": {},
   "outputs": [
    {
     "name": "stdout",
     "output_type": "stream",
     "text": [
      "[[1514.16660036]\n",
      " [1310.27229201]\n",
      " [1448.04583628]\n",
      " [1320.54603622]\n",
      " [1425.91777181]\n",
      " [1269.96760315]\n",
      " [1322.65347094]\n",
      " [1263.11844033]\n",
      " [1277.34362464]\n",
      " [1374.54905071]]\n",
      "[[1572.14548547]\n",
      " [1317.14044162]\n",
      " [1489.45005135]\n",
      " [1329.98953298]\n",
      " [1461.77508536]\n",
      " [1266.73246784]\n",
      " [1332.62524403]\n",
      " [1258.16640694]\n",
      " [1275.95745651]\n",
      " [1397.52962857]]\n",
      "[[1530.]\n",
      " [1297.]\n",
      " [1335.]\n",
      " [1282.]\n",
      " [1590.]\n",
      " [1300.]\n",
      " [1400.]\n",
      " [1255.]\n",
      " [1355.]\n",
      " [1375.]]\n"
     ]
    }
   ],
   "source": [
    "print(y_pred_trans[0:10])\n",
    "print(X_trans[0:10])\n",
    "print(Y_trans[0:10])"
   ]
  },
  {
   "cell_type": "code",
   "execution_count": 19,
   "metadata": {},
   "outputs": [
    {
     "data": {
      "text/plain": [
       "[<matplotlib.lines.Line2D at 0x1810e283828>]"
      ]
     },
     "execution_count": 19,
     "metadata": {},
     "output_type": "execute_result"
    },
    {
     "data": {
      "image/png": "[encoded data removed]",
      "text/plain": [
       "<Figure size 720x432 with 1 Axes>"
      ]
     },
     "metadata": {
      "needs_background": "light"
     },
     "output_type": "display_data"
    }
   ],
   "source": [
    "import matplotlib.pyplot as plt\n",
    "plt.figure(figsize=(10,6))\n",
    "#Before feature scaling\n",
    "plt.scatter(X,Y)\n",
    "plt.plot(X,pred,'r')"
   ]
  },
  {
   "cell_type": "code",
   "execution_count": 21,
   "metadata": {},
   "outputs": [
    {
     "data": {
      "text/plain": [
       "[<matplotlib.lines.Line2D at 0x1810e1e1240>]"
      ]
     },
     "execution_count": 21,
     "metadata": {},
     "output_type": "execute_result"
    },
    {
     "data": {
      "image/png": "[encoded data removed]",
      "text/plain": [
       "<Figure size 720x432 with 1 Axes>"
      ]
     },
     "metadata": {
      "needs_background": "light"
     },
     "output_type": "display_data"
    }
   ],
   "source": [
    "#After feature scaling \n",
    "plt.figure(figsize=(10,6))\n",
    "plt.scatter(X_trans,Y_trans)\n",
    "plt.plot(X_trans,y_pred_trans,'r')"
   ]
  },
  {
   "cell_type": "code",
   "execution_count": 22,
   "metadata": {},
   "outputs": [],
   "source": [
    "mse = mean_squared_error(Y_trans,y_pred_trans)\n",
    "rmse = np.sqrt(mse)"
   ]
  },
  {
   "cell_type": "code",
   "execution_count": 23,
   "metadata": {},
   "outputs": [
    {
     "name": "stdout",
     "output_type": "stream",
     "text": [
      "5201.384028002329 72.1206213783709\n"
     ]
    }
   ],
   "source": [
    "print(mse,rmse)"
   ]
  },
  {
   "cell_type": "code",
   "execution_count": 24,
   "metadata": {},
   "outputs": [
    {
     "name": "stdout",
     "output_type": "stream",
     "text": [
      "Actual :[1530.], Prediction:[1514.16660036]\n",
      "Actual :[1297.], Prediction:[1310.27229201]\n",
      "Actual :[1335.], Prediction:[1448.04583628]\n",
      "Actual :[1282.], Prediction:[1320.54603622]\n",
      "Actual :[1590.], Prediction:[1425.91777181]\n",
      "Actual :[1300.], Prediction:[1269.96760315]\n",
      "Actual :[1400.], Prediction:[1322.65347094]\n",
      "Actual :[1255.], Prediction:[1263.11844033]\n",
      "Actual :[1355.], Prediction:[1277.34362464]\n",
      "Actual :[1375.], Prediction:[1374.54905071]\n"
     ]
    }
   ],
   "source": [
    "for i in range(10):\n",
    "    print('Actual :{}, Prediction:{}'.format(Y_trans[i],y_pred_trans[i]))"
   ]
  },
  {
   "cell_type": "code",
   "execution_count": null,
   "metadata": {},
   "outputs": [],
   "source": []
  }
 ],
 "metadata": {
  "kernelspec": {
   "display_name": "Python 3",
   "language": "python",
   "name": "python3"
  },
  "language_info": {
   "codemirror_mode": {
    "name": "ipython",
    "version": 3
   },
   "file_extension": ".py",
   "mimetype": "text/x-python",
   "name": "python",
   "nbconvert_exporter": "python",
   "pygments_lexer": "ipython3",
   "version": "3.7.3"
  }
 },
 "nbformat": 4,
 "nbformat_minor": 2
}
