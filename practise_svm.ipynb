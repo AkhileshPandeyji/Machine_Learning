{
 "cells": [
  {
   "cell_type": "code",
   "execution_count": 1,
   "metadata": {},
   "outputs": [],
   "source": [
    "import pandas as pd\n",
    "import numpy as np\n",
    "import matplotlib.pyplot as plt\n",
    "from sklearn.svm import SVC\n",
    "from sklearn.preprocessing import StandardScaler\n",
    "from sklearn.model_selection import train_test_split"
   ]
  },
  {
   "cell_type": "code",
   "execution_count": 2,
   "metadata": {},
   "outputs": [],
   "source": [
    "dataset = pd.read_csv(\"Data_google_user_reviews.csv\")"
   ]
  },
  {
   "cell_type": "code",
   "execution_count": 3,
   "metadata": {},
   "outputs": [
    {
     "data": {
      "text/html": [
       "<div>\n",
       "<style scoped>\n",
       "    .dataframe tbody tr th:only-of-type {\n",
       "        vertical-align: middle;\n",
       "    }\n",
       "\n",
       "    .dataframe tbody tr th {\n",
       "        vertical-align: top;\n",
       "    }\n",
       "\n",
       "    .dataframe thead th {\n",
       "        text-align: right;\n",
       "    }\n",
       "</style>\n",
       "<table border=\"1\" class=\"dataframe\">\n",
       "  <thead>\n",
       "    <tr style=\"text-align: right;\">\n",
       "      <th></th>\n",
       "      <th>App</th>\n",
       "      <th>Translated_Review</th>\n",
       "      <th>Sentiment</th>\n",
       "      <th>Sentiment_Polarity</th>\n",
       "      <th>Sentiment_Subjectivity</th>\n",
       "    </tr>\n",
       "  </thead>\n",
       "  <tbody>\n",
       "    <tr>\n",
       "      <th>0</th>\n",
       "      <td>10 Best Foods for You</td>\n",
       "      <td>I like eat delicious food. That's I'm cooking ...</td>\n",
       "      <td>Positive</td>\n",
       "      <td>1.00</td>\n",
       "      <td>0.533333</td>\n",
       "    </tr>\n",
       "    <tr>\n",
       "      <th>1</th>\n",
       "      <td>10 Best Foods for You</td>\n",
       "      <td>This help eating healthy exercise regular basis</td>\n",
       "      <td>Positive</td>\n",
       "      <td>0.25</td>\n",
       "      <td>0.288462</td>\n",
       "    </tr>\n",
       "    <tr>\n",
       "      <th>2</th>\n",
       "      <td>10 Best Foods for You</td>\n",
       "      <td>NaN</td>\n",
       "      <td>NaN</td>\n",
       "      <td>NaN</td>\n",
       "      <td>NaN</td>\n",
       "    </tr>\n",
       "    <tr>\n",
       "      <th>3</th>\n",
       "      <td>10 Best Foods for You</td>\n",
       "      <td>Works great especially going grocery store</td>\n",
       "      <td>Positive</td>\n",
       "      <td>0.40</td>\n",
       "      <td>0.875000</td>\n",
       "    </tr>\n",
       "    <tr>\n",
       "      <th>4</th>\n",
       "      <td>10 Best Foods for You</td>\n",
       "      <td>Best idea us</td>\n",
       "      <td>Positive</td>\n",
       "      <td>1.00</td>\n",
       "      <td>0.300000</td>\n",
       "    </tr>\n",
       "  </tbody>\n",
       "</table>\n",
       "</div>"
      ],
      "text/plain": [
       "                     App                                  Translated_Review  \\\n",
       "0  10 Best Foods for You  I like eat delicious food. That's I'm cooking ...   \n",
       "1  10 Best Foods for You    This help eating healthy exercise regular basis   \n",
       "2  10 Best Foods for You                                                NaN   \n",
       "3  10 Best Foods for You         Works great especially going grocery store   \n",
       "4  10 Best Foods for You                                       Best idea us   \n",
       "\n",
       "  Sentiment  Sentiment_Polarity  Sentiment_Subjectivity  \n",
       "0  Positive                1.00                0.533333  \n",
       "1  Positive                0.25                0.288462  \n",
       "2       NaN                 NaN                     NaN  \n",
       "3  Positive                0.40                0.875000  \n",
       "4  Positive                1.00                0.300000  "
      ]
     },
     "execution_count": 3,
     "metadata": {},
     "output_type": "execute_result"
    }
   ],
   "source": [
    "dataset.head()"
   ]
  },
  {
   "cell_type": "code",
   "execution_count": 4,
   "metadata": {},
   "outputs": [],
   "source": [
    "dataset = dataset.dropna(axis=0,how='any')"
   ]
  },
  {
   "cell_type": "code",
   "execution_count": 5,
   "metadata": {},
   "outputs": [],
   "source": [
    "dataset = dataset.head(2000)"
   ]
  },
  {
   "cell_type": "code",
   "execution_count": 6,
   "metadata": {},
   "outputs": [],
   "source": [
    "pos_count = 0\n",
    "neg_count = 0\n",
    "neut_count = 0\n",
    "nan_values = 0\n",
    "for i in range(len(dataset)):\n",
    "    if dataset['Sentiment'].iloc[i] == 'Positive':\n",
    "        pos_count+=1\n",
    "    elif dataset['Sentiment'].iloc[i] == 'Negative':\n",
    "        neg_count+=1\n",
    "    elif dataset['Sentiment'].iloc[i] == 'Neutral':\n",
    "        neut_count+=1\n",
    "    else:\n",
    "        nan_values+=1"
   ]
  },
  {
   "cell_type": "code",
   "execution_count": 7,
   "metadata": {},
   "outputs": [
    {
     "name": "stdout",
     "output_type": "stream",
     "text": [
      "1337 366 297 0\n"
     ]
    }
   ],
   "source": [
    "print(pos_count,neg_count,neut_count,nan_values)"
   ]
  },
  {
   "cell_type": "code",
   "execution_count": 8,
   "metadata": {},
   "outputs": [],
   "source": [
    "labels = np.zeros((len(dataset),1))"
   ]
  },
  {
   "cell_type": "code",
   "execution_count": 9,
   "metadata": {},
   "outputs": [],
   "source": [
    "for i in range(len(dataset)):\n",
    "    if dataset['Sentiment'].iloc[i] == 'Positive':\n",
    "        labels[i][0] = 1\n",
    "    elif dataset['Sentiment'].iloc[i] == 'Neutral':\n",
    "        labels[i][0] = 2\n",
    "    else:\n",
    "        labels[i][0] = 0"
   ]
  },
  {
   "cell_type": "code",
   "execution_count": 10,
   "metadata": {},
   "outputs": [
    {
     "name": "stdout",
     "output_type": "stream",
     "text": [
      "[1. 1. 1. 1. 1. 1. 2. 2. 1. 1. 1. 1. 1. 1. 1. 1. 1. 1. 1. 2. 1. 1. 2. 1.\n",
      " 1. 1. 2. 1. 1. 0. 1. 1. 1. 1. 1. 1. 1. 1. 1. 1. 0. 1. 1. 1. 1. 1. 1. 1.\n",
      " 2. 1.]\n"
     ]
    }
   ],
   "source": [
    "print(labels[:50,0])"
   ]
  },
  {
   "cell_type": "code",
   "execution_count": 11,
   "metadata": {},
   "outputs": [],
   "source": [
    "dataset_group = dataset.groupby('App')"
   ]
  },
  {
   "cell_type": "code",
   "execution_count": 12,
   "metadata": {},
   "outputs": [
    {
     "name": "stdout",
     "output_type": "stream",
     "text": [
      "{'8fit Workouts & Meal Planner', 'AMC Theatres', 'ABC Preschool Free', '8 Ball Pool', '2GIS: directory & navigator', 'A+ Mobile', '365Scores - Live Scores', 'AD - Nieuws, Sport, Regio & Entertainment', 'A+ Gallery - Photos & Videos', '850 Sports News Digest', 'AP Mobile - Breaking News', 'ABC Kids - Tracing & Phonics', '591房屋交易-香港', '1800 Contacts - Lens Store', '7 Cups: Anxiety & Stress Chat', '2Date Dating App, Love and matching', 'A Word A Day', 'ABC News - US & World News', '4K Wallpapers and Ultra HD Backgrounds', '591房屋交易-租屋、中古屋、新建案、實價登錄、別墅透天、公寓套房、捷運、買房賣房行情、房價房貸查詢', 'ABCmouse.com', 'ANA', 'APE Weather ( Live Forecast)', '3D Live Neon Weed Launcher', '7 Minute Workout', '2ndLine - Second Phone Number', '7 Weeks - Habit & Goal Tracker', '2RedBeans', 'A Call From Santa Claus!', '30 Day Fitness Challenge - Workout at Home', 'APUS Launcher - Theme, Wallpaper, Hide Apps', 'AC - Tips & News for Android™', '2018Emoji Keyboard 😂 Emoticons Lite -sticker&gif', '21-Day Meditation Experience', 'ARY NEWS', '1LINE – One Line with One Touch', '4 in a Row', '95Live -SG#1 Live Streaming App', 'A&E - Watch Full Episodes of TV Shows', 'AOL - News, Mail & Video', '7 Day Food Journal Challenge', 'ARY NEWS URDU', '10 Best Foods for You', '11st', '104 找工作 - 找工作 找打工 找兼職 履歷健檢 履歷診療室', 'ACE Elite'}\n"
     ]
    }
   ],
   "source": [
    "app_names = set(dataset.iloc[:,0].values)\n",
    "print(app_names)"
   ]
  },
  {
   "cell_type": "code",
   "execution_count": 13,
   "metadata": {},
   "outputs": [],
   "source": [
    "count = []\n",
    "for i in range(len(app_names)):\n",
    "    posi_count = 0\n",
    "    negi_count = 0\n",
    "    neuti_count = 0\n",
    "    dataset_app = dataset_group.get_group(app_names.pop())\n",
    "    for value in dataset_app['Sentiment'].values:\n",
    "        if str(value) == 'Positive':\n",
    "            posi_count += 1\n",
    "        elif str(value) == 'Neutral':\n",
    "            neuti_count += 1\n",
    "        else:\n",
    "            negi_count += 1\n",
    "    count.append([posi_count,neuti_count,negi_count])"
   ]
  },
  {
   "cell_type": "code",
   "execution_count": 14,
   "metadata": {},
   "outputs": [
    {
     "name": "stdout",
     "output_type": "stream",
     "text": [
      "[[137, 15, 19], [5, 0, 1], [19, 9, 8], [104, 9, 106], [23, 11, 6], [57, 18, 9], [5, 2, 0], [13, 3, 3], [24, 10, 7], [38, 0, 1], [31, 1, 4], [30, 6, 1], [5, 3, 1], [64, 10, 6], [7, 0, 1], [26, 5, 7], [3, 1, 0], [18, 23, 29], [7, 0, 2], [5, 8, 2], [25, 2, 9], [6, 10, 11], [25, 6, 2], [2, 0, 0], [10, 0, 1], [17, 16, 7], [10, 0, 4], [31, 6, 2], [20, 0, 14], [27, 2, 2], [25, 2, 4], [18, 7, 10], [25, 6, 1], [68, 2, 10], [18, 9, 6], [27, 3, 8], [17, 0, 3], [34, 24, 20], [30, 5, 3], [17, 9, 7], [9, 0, 0], [17, 8, 7], [162, 22, 10], [23, 9, 7], [31, 8, 1], [22, 7, 4]]\n"
     ]
    }
   ],
   "source": [
    "print(count)"
   ]
  },
  {
   "cell_type": "code",
   "execution_count": 15,
   "metadata": {},
   "outputs": [],
   "source": [
    "user_review = {\n",
    "    0:'Negative',\n",
    "    1:'Positive',\n",
    "    2:'Neutral'\n",
    "}"
   ]
  },
  {
   "cell_type": "code",
   "execution_count": 16,
   "metadata": {},
   "outputs": [],
   "source": [
    "X = dataset.iloc[:,1:2].values"
   ]
  },
  {
   "cell_type": "code",
   "execution_count": 17,
   "metadata": {},
   "outputs": [
    {
     "name": "stdout",
     "output_type": "stream",
     "text": [
      "(2000, 1) (2000, 1)\n"
     ]
    }
   ],
   "source": [
    "print(X.shape,labels.shape)"
   ]
  },
  {
   "cell_type": "code",
   "execution_count": 18,
   "metadata": {},
   "outputs": [],
   "source": [
    "from sklearn.feature_extraction.text import TfidfVectorizer\n",
    "from nltk.tokenize import word_tokenize,sent_tokenize\n",
    "from nltk.corpus import stopwords\n",
    "from nltk.stem import PorterStemmer,WordNetLemmatizer\n",
    "from sklearn.metrics import accuracy_score"
   ]
  },
  {
   "cell_type": "code",
   "execution_count": 19,
   "metadata": {},
   "outputs": [],
   "source": [
    "def textPreprocessing(dataset):\n",
    "    stopwords_list = stopwords.words('english')\n",
    "    stopwords_list.extend([',','.','-','!','@'])\n",
    "    wnet = WordNetLemmatizer()\n",
    "    tfidf = TfidfVectorizer()\n",
    "    messageList = []\n",
    "    for i in dataset.index:\n",
    "        tokens = word_tokenize(dataset['Translated_Review'][i])\n",
    "        temp = []\n",
    "        for token in tokens:\n",
    "            if token.lower() not in stopwords_list:\n",
    "                temp.append(token.lower())\n",
    "        for i in range(len(temp)):\n",
    "            temp[i] = wnet.lemmatize(temp[i],pos='v')\n",
    "        msg = ' '.join(temp)\n",
    "        messageList.append(msg)\n",
    "    vect_array = tfidf.fit_transform(messageList)\n",
    "    return vect_array.toarray(),tfidf"
   ]
  },
  {
   "cell_type": "code",
   "execution_count": 20,
   "metadata": {},
   "outputs": [],
   "source": [
    "vect_array,tfidf = textPreprocessing(dataset)"
   ]
  },
  {
   "cell_type": "code",
   "execution_count": 21,
   "metadata": {},
   "outputs": [],
   "source": [
    "X_train,X_test,y_train,y_test = train_test_split(vect_array,labels,test_size=0.25)"
   ]
  },
  {
   "cell_type": "code",
   "execution_count": 28,
   "metadata": {},
   "outputs": [
    {
     "name": "stderr",
     "output_type": "stream",
     "text": [
      "C:\\Users\\Akhilesh Kr. Pandey\\Anaconda3\\lib\\site-packages\\sklearn\\utils\\validation.py:761: DataConversionWarning: A column-vector y was passed when a 1d array was expected. Please change the shape of y to (n_samples, ), for example using ravel().\n",
      "  y = column_or_1d(y, warn=True)\n"
     ]
    },
    {
     "data": {
      "text/plain": [
       "SVC(C=1.0, cache_size=200, class_weight=None, coef0=0.0,\n",
       "  decision_function_shape='ovr', degree=3, gamma='auto_deprecated',\n",
       "  kernel='linear', max_iter=-1, probability=False, random_state=None,\n",
       "  shrinking=True, tol=0.001, verbose=False)"
      ]
     },
     "execution_count": 28,
     "metadata": {},
     "output_type": "execute_result"
    }
   ],
   "source": [
    "svm = SVC(kernel='linear')\n",
    "svm.fit(X_train,y_train)"
   ]
  },
  {
   "cell_type": "code",
   "execution_count": 29,
   "metadata": {},
   "outputs": [],
   "source": [
    "y_pred = svm.predict(X_test)"
   ]
  },
  {
   "cell_type": "code",
   "execution_count": 30,
   "metadata": {},
   "outputs": [
    {
     "name": "stdout",
     "output_type": "stream",
     "text": [
      "0.828\n"
     ]
    }
   ],
   "source": [
    "print(accuracy_score(y_pred,y_test))"
   ]
  },
  {
   "cell_type": "code",
   "execution_count": 37,
   "metadata": {},
   "outputs": [],
   "source": [
    "def review_dataset(review):\n",
    "    df = pd.DataFrame()\n",
    "    df['Translated_Review'] = [review]\n",
    "    return df"
   ]
  },
  {
   "cell_type": "code",
   "execution_count": 38,
   "metadata": {},
   "outputs": [
    {
     "name": "stdout",
     "output_type": "stream",
     "text": [
      "                            Translated_Review\n",
      "0  Works great especially going grocery store\n"
     ]
    }
   ],
   "source": [
    "print(review_dataset('Works great especially going grocery store'))"
   ]
  },
  {
   "cell_type": "code",
   "execution_count": 49,
   "metadata": {},
   "outputs": [],
   "source": [
    "vect = tfidf.transform(['Mortal Kombat 11 delivers the best fighting gameplay in the franchise to date, with a healthy dose of style.'])"
   ]
  },
  {
   "cell_type": "code",
   "execution_count": 50,
   "metadata": {},
   "outputs": [
    {
     "name": "stdout",
     "output_type": "stream",
     "text": [
      "[[0. 0. 0. ... 0. 0. 0.]]\n"
     ]
    }
   ],
   "source": [
    "print(vect.toarray())"
   ]
  },
  {
   "cell_type": "code",
   "execution_count": 51,
   "metadata": {},
   "outputs": [],
   "source": [
    "pred = svm.predict(vect.toarray())"
   ]
  },
  {
   "cell_type": "code",
   "execution_count": 52,
   "metadata": {},
   "outputs": [
    {
     "name": "stdout",
     "output_type": "stream",
     "text": [
      "Positive\n"
     ]
    }
   ],
   "source": [
    "print(user_review[pred[0]])"
   ]
  },
  {
   "cell_type": "code",
   "execution_count": null,
   "metadata": {},
   "outputs": [],
   "source": []
  }
 ],
 "metadata": {
  "kernelspec": {
   "display_name": "Python 3",
   "language": "python",
   "name": "python3"
  },
  "language_info": {
   "codemirror_mode": {
    "name": "ipython",
    "version": 3
   },
   "file_extension": ".py",
   "mimetype": "text/x-python",
   "name": "python",
   "nbconvert_exporter": "python",
   "pygments_lexer": "ipython3",
   "version": "3.7.3"
  }
 },
 "nbformat": 4,
 "nbformat_minor": 2
}
