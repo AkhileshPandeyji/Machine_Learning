{
 "cells": [
  {
   "cell_type": "code",
   "execution_count": 1,
   "metadata": {},
   "outputs": [],
   "source": [
    "import pandas as pd\n",
    "import numpy as np\n",
    "from sklearn.naive_bayes import GaussianNB\n",
    "from sklearn.feature_extraction.text import CountVectorizer,TfidfVectorizer,TfidfTransformer\n",
    "from sklearn.metrics import accuracy_score\n",
    "from sklearn.datasets import fetch_20newsgroups"
   ]
  },
  {
   "cell_type": "code",
   "execution_count": 2,
   "metadata": {},
   "outputs": [],
   "source": [
    "cat = {\n",
    " 'rec.autos':\"Autos\",\n",
    " 'rec.motorcycles':\"Motorcycles\",\n",
    " 'rec.sport.hockey':\"Hockey\",\n",
    " 'sci.electronics':\"Electronics\",\n",
    " 'sci.space':\"Space\",\n",
    " }\n",
    "train = fetch_20newsgroups(subset='train',categories=cat)"
   ]
  },
  {
   "cell_type": "code",
   "execution_count": 3,
   "metadata": {},
   "outputs": [],
   "source": [
    "test = fetch_20newsgroups(subset='test',categories=cat)"
   ]
  },
  {
   "cell_type": "code",
   "execution_count": 4,
   "metadata": {},
   "outputs": [],
   "source": [
    "train_data = train.data\n",
    "test_data = test.data"
   ]
  },
  {
   "cell_type": "code",
   "execution_count": 5,
   "metadata": {},
   "outputs": [
    {
     "name": "stdout",
     "output_type": "stream",
     "text": [
      "dict_keys(['data', 'filenames', 'target_names', 'target', 'DESCR'])\n"
     ]
    }
   ],
   "source": [
    "print(train.keys())"
   ]
  },
  {
   "cell_type": "code",
   "execution_count": 6,
   "metadata": {},
   "outputs": [
    {
     "name": "stdout",
     "output_type": "stream",
     "text": [
      "dict_keys(['data', 'filenames', 'target_names', 'target', 'DESCR'])\n"
     ]
    }
   ],
   "source": [
    "print(test.keys())"
   ]
  },
  {
   "cell_type": "code",
   "execution_count": 7,
   "metadata": {},
   "outputs": [],
   "source": [
    "y_train = train.target"
   ]
  },
  {
   "cell_type": "code",
   "execution_count": 8,
   "metadata": {},
   "outputs": [
    {
     "name": "stdout",
     "output_type": "stream",
     "text": [
      "[0 1 3 ... 4 4 2]\n"
     ]
    }
   ],
   "source": [
    "print(y_train)"
   ]
  },
  {
   "cell_type": "code",
   "execution_count": 9,
   "metadata": {},
   "outputs": [
    {
     "name": "stdout",
     "output_type": "stream",
     "text": [
      "['rec.autos', 'rec.motorcycles', 'rec.sport.hockey', 'sci.electronics', 'sci.space']\n"
     ]
    }
   ],
   "source": [
    "print(train.target_names)"
   ]
  },
  {
   "cell_type": "code",
   "execution_count": 10,
   "metadata": {},
   "outputs": [],
   "source": [
    "tfidf = TfidfVectorizer()"
   ]
  },
  {
   "cell_type": "code",
   "execution_count": 11,
   "metadata": {},
   "outputs": [],
   "source": [
    "x_train = tfidf.fit_transform(train_data)"
   ]
  },
  {
   "cell_type": "code",
   "execution_count": 12,
   "metadata": {},
   "outputs": [],
   "source": [
    "x_train = x_train.toarray()"
   ]
  },
  {
   "cell_type": "code",
   "execution_count": 13,
   "metadata": {},
   "outputs": [],
   "source": [
    "nb = GaussianNB()"
   ]
  },
  {
   "cell_type": "code",
   "execution_count": 14,
   "metadata": {},
   "outputs": [
    {
     "data": {
      "text/plain": [
       "GaussianNB(priors=None, var_smoothing=1e-09)"
      ]
     },
     "execution_count": 14,
     "metadata": {},
     "output_type": "execute_result"
    }
   ],
   "source": [
    "nb.fit(x_train,y_train)"
   ]
  },
  {
   "cell_type": "code",
   "execution_count": 15,
   "metadata": {},
   "outputs": [],
   "source": [
    "x_test = tfidf.transform(test_data)"
   ]
  },
  {
   "cell_type": "code",
   "execution_count": 16,
   "metadata": {},
   "outputs": [],
   "source": [
    "x_test = x_test.toarray()"
   ]
  },
  {
   "cell_type": "code",
   "execution_count": 17,
   "metadata": {},
   "outputs": [],
   "source": [
    "y_pred = nb.predict(x_test)"
   ]
  },
  {
   "cell_type": "code",
   "execution_count": 18,
   "metadata": {},
   "outputs": [
    {
     "name": "stdout",
     "output_type": "stream",
     "text": [
      "[4 4 1 ... 2 4 4]\n"
     ]
    }
   ],
   "source": [
    "print(y_pred)"
   ]
  },
  {
   "cell_type": "code",
   "execution_count": 19,
   "metadata": {},
   "outputs": [],
   "source": [
    "y_test = test.target"
   ]
  },
  {
   "cell_type": "code",
   "execution_count": 20,
   "metadata": {},
   "outputs": [
    {
     "name": "stdout",
     "output_type": "stream",
     "text": [
      "0.8712121212121212\n"
     ]
    }
   ],
   "source": [
    "print(accuracy_score(y_pred,y_test))"
   ]
  },
  {
   "cell_type": "code",
   "execution_count": 28,
   "metadata": {},
   "outputs": [],
   "source": [
    "input_data = [\n",
    "\"\"\"\n",
    "The state-of-the-art heat shield which will protect astronauts upon re-entry on the second mission of Artemis,\n",
    "arrived this week at Kennedy Space Center for assembly and integration with the Orion crew module. Artemis 2,\n",
    "the first crewed mission in the series of missions to the Moon and on to Mars,\n",
    "will confirm all of the spacecraft’s systems operate as designed in the actual environment\n",
    "of deep space with astronauts aboard.\n",
    "\"\"\",\n",
    "\"\"\"\n",
    "It rides faster than it looks. This fighter is the only 200cc naked bike with real racing genes. \n",
    "High-tech components – such as the ultra-compact, water-cooled, single-cylinder, 4-stroke engine, \n",
    "and the ultralight tubular trellis frame, state-of-the-art injection electronics, cutting-edge\n",
    "WP suspension and elegant swingarm – are all perfectly integrated to ensure maximum riding fun and dynamic cornering.\n",
    "\"\"\"]"
   ]
  },
  {
   "cell_type": "code",
   "execution_count": 29,
   "metadata": {},
   "outputs": [
    {
     "name": "stdout",
     "output_type": "stream",
     "text": [
      "\n",
      "The state-of-the-art heat shield which will protect astronauts upon re-entry on the second mission of Artemis,\n",
      "arrived this week at Kennedy Space Center for assembly and integration with the Orion crew module. Artemis 2,\n",
      "the first crewed mission in the series of missions to the Moon and on to Mars,\n",
      "will confirm all of the spacecraft’s systems operate as designed in the actual environment\n",
      "of deep space with astronauts aboard.\n",
      "\n"
     ]
    }
   ],
   "source": [
    "print(input_data[0])"
   ]
  },
  {
   "cell_type": "code",
   "execution_count": 30,
   "metadata": {},
   "outputs": [],
   "source": [
    "input_data_vect = tfidf.transform(input_data)"
   ]
  },
  {
   "cell_type": "code",
   "execution_count": 31,
   "metadata": {},
   "outputs": [],
   "source": [
    "input_data_array = input_data_vect.toarray()"
   ]
  },
  {
   "cell_type": "code",
   "execution_count": 32,
   "metadata": {},
   "outputs": [],
   "source": [
    "pred = nb.predict(input_data_array)"
   ]
  },
  {
   "cell_type": "code",
   "execution_count": 33,
   "metadata": {},
   "outputs": [
    {
     "name": "stdout",
     "output_type": "stream",
     "text": [
      "[4 1]\n"
     ]
    }
   ],
   "source": [
    "print(pred)"
   ]
  },
  {
   "cell_type": "code",
   "execution_count": 34,
   "metadata": {},
   "outputs": [
    {
     "name": "stdout",
     "output_type": "stream",
     "text": [
      "Review: \n",
      "The state-of-the-art heat shield which will protect astronauts upon re-entry on the second mission of Artemis,\n",
      "arrived this week at Kennedy Space Center for assembly and integration with the Orion crew module. Artemis 2,\n",
      "the first crewed mission in the series of missions to the Moon and on to Mars,\n",
      "will confirm all of the spacecraft’s systems operate as designed in the actual environment\n",
      "of deep space with astronauts aboard.\n",
      "\n",
      "--------------------------------------------------------------------------\n",
      "Prediction: Space\n",
      "Review: \n",
      "It rides faster than it looks. This fighter is the only 200cc naked bike with real racing genes. \n",
      "High-tech components – such as the ultra-compact, water-cooled, single-cylinder, 4-stroke engine, \n",
      "and the ultralight tubular trellis frame, state-of-the-art injection electronics, cutting-edge\n",
      "WP suspension and elegant swingarm – are all perfectly integrated to ensure maximum riding fun and dynamic cornering.\n",
      "\n",
      "--------------------------------------------------------------------------\n",
      "Prediction: Motorcycles\n"
     ]
    }
   ],
   "source": [
    "for review,prediction in zip(input_data,pred):\n",
    "    print(\"Review:\",review)\n",
    "    print(\"--------------------------------------------------------------------------\")\n",
    "    print(\"Prediction:\",cat[train.target_names[prediction]])"
   ]
  },
  {
   "cell_type": "code",
   "execution_count": null,
   "metadata": {},
   "outputs": [],
   "source": []
  }
 ],
 "metadata": {
  "kernelspec": {
   "display_name": "Python 3",
   "language": "python",
   "name": "python3"
  },
  "language_info": {
   "codemirror_mode": {
    "name": "ipython",
    "version": 3
   },
   "file_extension": ".py",
   "mimetype": "text/x-python",
   "name": "python",
   "nbconvert_exporter": "python",
   "pygments_lexer": "ipython3",
   "version": "3.7.3"
  }
 },
 "nbformat": 4,
 "nbformat_minor": 2
}
