{
 "cells": [
  {
   "cell_type": "code",
   "execution_count": 1,
   "metadata": {},
   "outputs": [],
   "source": [
    "import pandas as pd\n",
    "import numpy as np\n",
    "import matplotlib.pyplot as plt\n",
    "from sklearn.svm import SVC\n",
    "from sklearn.preprocessing import StandardScaler\n",
    "from sklearn.model_selection import train_test_split"
   ]
  },
  {
   "cell_type": "code",
   "execution_count": 2,
   "metadata": {},
   "outputs": [],
   "source": [
    "dataset = pd.read_csv(\"Data_google_user_reviews.csv\")"
   ]
  },
  {
   "cell_type": "code",
   "execution_count": 3,
   "metadata": {
    "collapsed": true
   },
   "outputs": [
    {
     "data": {
      "text/html": [
       "<div>\n",
       "<style scoped>\n",
       "    .dataframe tbody tr th:only-of-type {\n",
       "        vertical-align: middle;\n",
       "    }\n",
       "\n",
       "    .dataframe tbody tr th {\n",
       "        vertical-align: top;\n",
       "    }\n",
       "\n",
       "    .dataframe thead th {\n",
       "        text-align: right;\n",
       "    }\n",
       "</style>\n",
       "<table border=\"1\" class=\"dataframe\">\n",
       "  <thead>\n",
       "    <tr style=\"text-align: right;\">\n",
       "      <th></th>\n",
       "      <th>App</th>\n",
       "      <th>Translated_Review</th>\n",
       "      <th>Sentiment</th>\n",
       "      <th>Sentiment_Polarity</th>\n",
       "      <th>Sentiment_Subjectivity</th>\n",
       "    </tr>\n",
       "  </thead>\n",
       "  <tbody>\n",
       "    <tr>\n",
       "      <th>0</th>\n",
       "      <td>10 Best Foods for You</td>\n",
       "      <td>I like eat delicious food. That's I'm cooking ...</td>\n",
       "      <td>Positive</td>\n",
       "      <td>1.00</td>\n",
       "      <td>0.533333</td>\n",
       "    </tr>\n",
       "    <tr>\n",
       "      <th>1</th>\n",
       "      <td>10 Best Foods for You</td>\n",
       "      <td>This help eating healthy exercise regular basis</td>\n",
       "      <td>Positive</td>\n",
       "      <td>0.25</td>\n",
       "      <td>0.288462</td>\n",
       "    </tr>\n",
       "    <tr>\n",
       "      <th>2</th>\n",
       "      <td>10 Best Foods for You</td>\n",
       "      <td>NaN</td>\n",
       "      <td>NaN</td>\n",
       "      <td>NaN</td>\n",
       "      <td>NaN</td>\n",
       "    </tr>\n",
       "    <tr>\n",
       "      <th>3</th>\n",
       "      <td>10 Best Foods for You</td>\n",
       "      <td>Works great especially going grocery store</td>\n",
       "      <td>Positive</td>\n",
       "      <td>0.40</td>\n",
       "      <td>0.875000</td>\n",
       "    </tr>\n",
       "    <tr>\n",
       "      <th>4</th>\n",
       "      <td>10 Best Foods for You</td>\n",
       "      <td>Best idea us</td>\n",
       "      <td>Positive</td>\n",
       "      <td>1.00</td>\n",
       "      <td>0.300000</td>\n",
       "    </tr>\n",
       "  </tbody>\n",
       "</table>\n",
       "</div>"
      ],
      "text/plain": [
       "                     App                                  Translated_Review  \\\n",
       "0  10 Best Foods for You  I like eat delicious food. That's I'm cooking ...   \n",
       "1  10 Best Foods for You    This help eating healthy exercise regular basis   \n",
       "2  10 Best Foods for You                                                NaN   \n",
       "3  10 Best Foods for You         Works great especially going grocery store   \n",
       "4  10 Best Foods for You                                       Best idea us   \n",
       "\n",
       "  Sentiment  Sentiment_Polarity  Sentiment_Subjectivity  \n",
       "0  Positive                1.00                0.533333  \n",
       "1  Positive                0.25                0.288462  \n",
       "2       NaN                 NaN                     NaN  \n",
       "3  Positive                0.40                0.875000  \n",
       "4  Positive                1.00                0.300000  "
      ]
     },
     "execution_count": 3,
     "metadata": {},
     "output_type": "execute_result"
    }
   ],
   "source": [
    "dataset.head()"
   ]
  },
  {
   "cell_type": "code",
   "execution_count": 4,
   "metadata": {},
   "outputs": [],
   "source": [
    "dataset = dataset.dropna(axis=0,how='any')"
   ]
  },
  {
   "cell_type": "code",
   "execution_count": 5,
   "metadata": {
    "collapsed": true
   },
   "outputs": [
    {
     "data": {
      "text/html": [
       "<div>\n",
       "<style scoped>\n",
       "    .dataframe tbody tr th:only-of-type {\n",
       "        vertical-align: middle;\n",
       "    }\n",
       "\n",
       "    .dataframe tbody tr th {\n",
       "        vertical-align: top;\n",
       "    }\n",
       "\n",
       "    .dataframe thead th {\n",
       "        text-align: right;\n",
       "    }\n",
       "</style>\n",
       "<table border=\"1\" class=\"dataframe\">\n",
       "  <thead>\n",
       "    <tr style=\"text-align: right;\">\n",
       "      <th></th>\n",
       "      <th>App</th>\n",
       "      <th>Translated_Review</th>\n",
       "      <th>Sentiment</th>\n",
       "      <th>Sentiment_Polarity</th>\n",
       "      <th>Sentiment_Subjectivity</th>\n",
       "    </tr>\n",
       "  </thead>\n",
       "  <tbody>\n",
       "    <tr>\n",
       "      <th>0</th>\n",
       "      <td>10 Best Foods for You</td>\n",
       "      <td>I like eat delicious food. That's I'm cooking ...</td>\n",
       "      <td>Positive</td>\n",
       "      <td>1.00</td>\n",
       "      <td>0.533333</td>\n",
       "    </tr>\n",
       "    <tr>\n",
       "      <th>1</th>\n",
       "      <td>10 Best Foods for You</td>\n",
       "      <td>This help eating healthy exercise regular basis</td>\n",
       "      <td>Positive</td>\n",
       "      <td>0.25</td>\n",
       "      <td>0.288462</td>\n",
       "    </tr>\n",
       "    <tr>\n",
       "      <th>3</th>\n",
       "      <td>10 Best Foods for You</td>\n",
       "      <td>Works great especially going grocery store</td>\n",
       "      <td>Positive</td>\n",
       "      <td>0.40</td>\n",
       "      <td>0.875000</td>\n",
       "    </tr>\n",
       "    <tr>\n",
       "      <th>4</th>\n",
       "      <td>10 Best Foods for You</td>\n",
       "      <td>Best idea us</td>\n",
       "      <td>Positive</td>\n",
       "      <td>1.00</td>\n",
       "      <td>0.300000</td>\n",
       "    </tr>\n",
       "    <tr>\n",
       "      <th>5</th>\n",
       "      <td>10 Best Foods for You</td>\n",
       "      <td>Best way</td>\n",
       "      <td>Positive</td>\n",
       "      <td>1.00</td>\n",
       "      <td>0.300000</td>\n",
       "    </tr>\n",
       "  </tbody>\n",
       "</table>\n",
       "</div>"
      ],
      "text/plain": [
       "                     App                                  Translated_Review  \\\n",
       "0  10 Best Foods for You  I like eat delicious food. That's I'm cooking ...   \n",
       "1  10 Best Foods for You    This help eating healthy exercise regular basis   \n",
       "3  10 Best Foods for You         Works great especially going grocery store   \n",
       "4  10 Best Foods for You                                       Best idea us   \n",
       "5  10 Best Foods for You                                           Best way   \n",
       "\n",
       "  Sentiment  Sentiment_Polarity  Sentiment_Subjectivity  \n",
       "0  Positive                1.00                0.533333  \n",
       "1  Positive                0.25                0.288462  \n",
       "3  Positive                0.40                0.875000  \n",
       "4  Positive                1.00                0.300000  \n",
       "5  Positive                1.00                0.300000  "
      ]
     },
     "execution_count": 5,
     "metadata": {},
     "output_type": "execute_result"
    }
   ],
   "source": [
    "dataset = dataset.head(2000)"
   ]
  },
  {
   "cell_type": "code",
   "execution_count": 6,
   "metadata": {},
   "outputs": [],
   "source": [
    "pos_count = 0\n",
    "neg_count = 0\n",
    "neut_count = 0\n",
    "nan_values = 0\n",
    "for i in range(len(dataset)):\n",
    "    if dataset['Sentiment'].iloc[i] == 'Positive':\n",
    "        pos_count+=1\n",
    "    elif dataset['Sentiment'].iloc[i] == 'Negative':\n",
    "        neg_count+=1\n",
    "    elif dataset['Sentiment'].iloc[i] == 'Neutral':\n",
    "        neut_count+=1\n",
    "    else:\n",
    "        nan_values+=1"
   ]
  },
  {
   "cell_type": "code",
   "execution_count": 10,
   "metadata": {},
   "outputs": [
    {
     "name": "stdout",
     "output_type": "stream",
     "text": [
      "8187 3014 1946 0\n"
     ]
    }
   ],
   "source": [
    "print(pos_count,neg_count,neut_count,nan_values)"
   ]
  },
  {
   "cell_type": "code",
   "execution_count": 11,
   "metadata": {},
   "outputs": [],
   "source": [
    "labels = np.zeros((len(dataset),1))"
   ]
  },
  {
   "cell_type": "code",
   "execution_count": 14,
   "metadata": {},
   "outputs": [],
   "source": [
    "for i in range(len(dataset)):\n",
    "    if dataset['Sentiment'].iloc[i] == 'Positive':\n",
    "        labels[i][0] = 1\n",
    "    elif dataset['Sentiment'].iloc[i] == 'Neutral':\n",
    "        labels[i][0] = 2\n",
    "    else:\n",
    "        labels[i][0] = 0"
   ]
  },
  {
   "cell_type": "code",
   "execution_count": 20,
   "metadata": {},
   "outputs": [
    {
     "name": "stdout",
     "output_type": "stream",
     "text": [
      "[1. 1. 1. 1. 1. 1. 2. 2. 1. 1. 1. 1. 1. 1. 1. 1. 1. 1. 1. 2. 1. 1. 2. 1.\n",
      " 1. 1. 2. 1. 1. 0. 1. 1. 1. 1. 1. 1. 1. 1. 1. 1. 0. 1. 1. 1. 1. 1. 1. 1.\n",
      " 2. 1.]\n"
     ]
    }
   ],
   "source": [
    "print(labels[:50,0])"
   ]
  },
  {
   "cell_type": "code",
   "execution_count": 16,
   "metadata": {},
   "outputs": [],
   "source": [
    "dataset_group = dataset.groupby('App')"
   ]
  },
  {
   "cell_type": "code",
   "execution_count": 17,
   "metadata": {},
   "outputs": [
    {
     "name": "stdout",
     "output_type": "stream",
     "text": [
      "{'Brasileirão Pro 2018 - Série A e B', 'Baby Panda’s Juice Shop', 'BuzzFeed: News, Tasty, Quizzes', 'Alarm Clock Free', 'AT&T Visual Voicemail', 'BestCam Selfie-selfie, beauty camera, photo editor', 'AOL - News, Mail & Video', 'ASUS Calling Screen', 'CMB Free Dating App', '2Date Dating App, Love and matching', 'Buscapé - Ofertas e descontos', 'Branch', 'Burner - Free Phone Number', '2GIS: directory & navigator', 'Buienradar - weer', 'AndroZip™ FREE File Manager', 'AT&T Navigator: Maps, Traffic', 'C++ Tutorials', 'AC - Tips & News for Android™', 'Alfred Home Security Camera', 'Apex Launcher', 'Binaural Beats Therapy', 'Baby Monitor', 'Black People Meet Singles Date', 'Bloomberg Professional', 'Angry Birds Rio', 'Aprender inglés con Wlingua', 'CNN Breaking US & World News', 'Azpen eReader', 'Brain Waves - Binaural Beats', 'App vault', 'AppLock', 'Caller ID +', 'Banorte Movil', 'BEYBLADE BURST app', 'All Football - Latest News & Videos', 'Bubble Shooter 2', 'CDL Practice Test 2018 Edition', 'ACE Elite', 'APUS Launcher - Theme, Wallpaper, Hide Apps', 'Booking.com Travel Deals', 'Air Traffic', '8fit Workouts & Meal Planner', 'APE Weather ( Live Forecast)', 'Baby ABC in box! Kids alphabet games for toddlers!', 'AccuWeather: Daily Forecast & Live Weather Reports', 'Breaking News, Local news, Attacks and Alerts Free', 'AP Mobile - Breaking News', 'Banco Itaú', 'CVS Caremark', 'CBS News', 'Cache Cleaner-DU Speed Booster (booster & cleaner)', 'Agoda – Hotel Booking Deals', 'Amex Mobile', 'CBS Sports Fantasy', 'AutoCAD - DWG Viewer & Editor', 'Best Fiends - Free Puzzle Game', 'Aviary Stickers: Free Pack', 'Calendar Widget Month + Agenda', 'Box', 'Android Messages', 'Bangla Newspaper – Prothom Alo', 'BaBe - Baca Berita', 'Anime Avatar Creator: Make Your Own Avatar', 'CM Locker - Security Lockscreen', 'Animated Photo Editor', 'Brightest LED Flashlight', 'Best Car Wallpapers', 'Beautiful Widgets Pro', 'Anime Manga Coloring Book', 'Barcode Scanner', 'Baby Panda Learns Shapes', '2018Emoji Keyboard 😂 Emoticons Lite -sticker&gif', 'Add Text To Photo', 'ABCmouse.com', 'Acorns - Invest Spare Change', 'AD - Nieuws, Sport, Regio & Entertainment', 'CAIXA', 'CallApp: Caller ID, Blocker & Phone Call Recorder', 'Call Control - Call Blocker', '11st', 'Amazon Drive', 'Banfield Pet Health Tracker', '7 Day Food Journal Challenge', 'Battlelands Royale', 'All Video Downloader 2018', 'Apartment List: Housing, Apt, and Property Rentals', 'Account Manager', 'Alarm Clock', 'AppLock - Fingerprint', 'Bible', 'Abs Training-Burn belly fat', 'CALCU™ Stylish Calculator Free', 'Call of Duty:Black Ops Zombies', 'B612 - Beauty & Filter Camera', 'A&E - Watch Full Episodes of TV Shows', 'BBW Dating & Plus Size Chat', '104 找工作 - 找工作 找打工 找兼職 履歷健檢 履歷診療室', 'CM Flashlight (Compass, SOS)', 'Beautiful Design Birthday Cake', 'Azar', 'Best Wallpapers QHD', 'Blood Pressure(BP) Diary', 'BEST CAR SOUNDS', 'Brightest Flashlight Free ®', '3D Live Neon Weed Launcher', 'A+ Gallery - Photos & Videos', 'Bike Computer - GPS Cycling Tracker', 'Barbie Magical Fashion', 'Binaural Beats Meditation', 'AutoScout24 Switzerland – Find your new car', 'Birds Sounds Ringtones & Wallpapers', 'All Email Providers', 'Accounting App - Zoho Books', 'All Events in City', 'BankMobile Vibe App', 'BaconReader for Reddit', 'Block Puzzle Classic Legend !', 'Airport + Flight Tracker Radar', 'BZWBK24 mobile', 'AlReader -any text book reader', 'ASUS Cover for ZenFone 2', 'Amazon Kindle', 'Advanced Task Killer', 'Android Auto - Maps, Media, Messaging & Voice', 'Avakin Life - 3D virtual world', 'Apartment Decorating Ideas', 'BBC Media Player', 'Atlan3D Navigation: Korea navigator', 'All-In-One Toolbox: Cleaner, Booster, App Manager', '2RedBeans', 'Apartment, Home Rental Search: Realtor.com Rentals', 'Big Days - Events Countdown', 'CW Seed', 'Brit + Co', \"COOKING MAMA Let's Cook!\", 'Animal Planet GO', 'Bank of America Mobile Banking', 'Basketball FRVR - Shoot the Hoop and Slam Dunk!', 'BBC Sport', 'Call Blocker', 'Barbie™ Fashion Closet', 'BeyondMenu Food Delivery', 'All Mental disorders', 'AirAsia', 'Best Ovulation Tracker Fertility Calendar App Glow', 'Aviary Effects: Classic', 'Beautiful Widgets Free', 'Ada - Your Health Guide', 'Buzz Launcher-Smart&Free Theme', 'Calculator Plus Free', 'CM Launcher 3D - Theme, Wallpapers, Efficient', '2ndLine - Second Phone Number', 'Boxed Wholesale', 'Acorn TV: World-class TV from Britain and Beyond', 'CWT To Go', 'BukuBayi - Perkembangan Bayi', 'Backgrounds (HD Wallpapers)', 'Angry Birds Classic', 'Bubble Witch 3 Saga', 'Best Wallpapers Backgrounds(100,000+ 4K HD)', 'BBM - Free Calls & Messages', 'Amino: Communities and Chats', 'Ancestry', 'Asteroids 3D live wallpaper', 'Blood Pressure', 'Baby Name Together', 'Airway Ex - Intubate. Anesthetize. Train.', 'BÁO MỚI - Đọc Báo, Tin Tức 24h', 'AliExpress - Smarter Shopping, Better Living', 'All Language Translator Free', 'Banco do Brasil', '1LINE – One Line with One Touch', 'BiggerCity: Chat for gay bears, chubs & chasers', 'BBW Dating & Curvy Singles Chat- LargeFriends', 'Baseball Boy!', 'All Football GO- Live Score, Games', 'Allegiant', \"Boys Photo Editor - Six Pack & Men's Suit\", 'Baritastic - Bariatric Tracker', 'Asana: organize team projects', 'BeWild Free Dating & Chat App', 'Bualuang mBanking', 'CM Browser - Ad Blocker , Fast Download , Privacy', '365Scores - Live Scores', '591房屋交易-租屋、中古屋、新建案、實價登錄、別墅透天、公寓套房、捷運、買房賣房行情、房價房貸查詢', 'ANA', 'CNBC: Breaking Business News & Live Market Data', 'ARY NEWS', 'Baby Tiger Care - My Cute Virtual Pet Friend', 'Babbel – Learn Spanish', 'Calculator - unit converter', 'Baby puzzles', 'Archos File Manager', 'BaBe Lite - Baca Berita Hemat Kuota', 'Blood Pressure Log - MyDiary', 'AirBrush: Easy Photo Editor', '95Live -SG#1 Live Streaming App', 'Block Puzzle', 'Apartments & Rentals - Zillow', 'Beauty Makeup Snappy Collage Photo Editor - Lidow', 'Brilliant', '4K Wallpapers and Ultra HD Backgrounds', 'Backgrounds HD (Wallpapers)', 'BluTV', 'Banque Populaire', 'A Word A Day', '10 Best Foods for You', 'Betterment', 'AT&T Smart Wi-Fi', 'Bubble Shooter Space', 'ASOS', 'ABC Preschool Free', '8 Ball Pool', 'Be A Legend: Soccer', 'Angry Birds 2', 'Calculator - free calculator, multi calculator app', 'BBWCupid - BBW Dating App', 'BioLife Plasma Services', 'Browser 4G', 'Baby Panda Musical Genius', 'Build a Bridge!', 'Baby Panda Care', 'Barclays US for Android', 'Amazon for Tablets', 'C Programming', 'Blur Image Background Editor (Blur Photo Editor)', 'Amtrak', 'BaBe+ - Berita Indonesia', 'AdWords Express', 'Bubble Shooter', 'BBC News', 'Arrow.io', 'BeautyPlus - Easy Photo Editor & Selfie Camera', 'Bancomer móvil', '7 Cups: Anxiety & Stress Chat', 'Apple Daily 蘋果動新聞', 'AMC Theatres', 'Babbel – Learn Languages', 'Blossom Blast Saga', 'Bloomberg: Market & Financial News', 'Akinator', 'Apk Installer', 'Butterfly Live Wallpaper', 'Bubble Shooter Genies', 'Anthem BC Anywhere', 'Ascape VR: 360° Virtual Travel', 'Blur Image Background', 'Calculator with Percent (Free)', 'All Social Networks', 'All-in-One Mahjong 3 FREE', 'Business Calendar 2', 'Asphalt 8: Airborne', 'C++ Programming', 'Any.do: To-do list, Calendar, Reminders & Planner', 'CATS: Crash Arena Turbo Stars', '850 Sports News Digest', 'Calls & Text by Mo+', 'A+ Mobile', 'BET NOW - Watch Shows', 'Bathroom Decorating Ideas', '30 Day Fitness Challenge - Workout at Home', 'Adobe Acrobat Reader', 'All Maths Formulas', 'BBVA Spain', 'ARY NEWS URDU', 'A Call From Santa Claus!', 'ASUS Sound Recorder', 'BBVA Compass Banking', 'CBS Sports App - Scores, News, Stats & Watch Live', '4 in a Row', 'Allrecipes Dinner Spinner', 'Apartments.com Rental Search', 'Bad Piggies', 'Beauty Camera - Selfie Camera', 'Anthem Anywhere', 'Bed Time Fan - White Noise Sleep Sounds', 'BeSoccer - Soccer Live Score', 'Bukalapak - Jual Beli Online', 'Baca- Berita Terbaru, Informasi, Gosip dan Politik', 'Amazon Shopping', 'Bowmasters', 'BeyondPod Podcast Manager', '591房屋交易-香港', 'CIA - Caller ID & Call Blocker', 'Amazon FreeTime – Kids’ Videos, Books, & TV shows', 'Blogaway for Android (Blogger)', '21-Day Meditation Experience', 'Airbnb', 'ABC News - US & World News', 'Blogger', 'Bagan - Myanmar Keyboard', 'Adobe Photoshop Express:Photo Editor Collage Maker', \"Alto's Adventure\", \"Bloglovin'\", 'BetterMe: Weight Loss Workouts', 'ABC Kids - Tracing & Phonics', '7 Weeks - Habit & Goal Tracker', 'AVG Cleaner – Speed, Battery & Memory Booster', 'ASUS Quick Memo', 'BIG Launcher', 'Amazon Prime Video', 'Anger of stick 5 : zombie', 'Basketball Stars', 'Age Calculator', 'ASUS SuperNote', 'American Airlines', 'Caf - Mon Compte', 'Badoo - Free Chat & Dating App', '7 Minute Workout', 'Associated Credit Union Mobile', 'Banjo', 'Blood Donor', 'BigOven Recipes, Meal Planner, Grocery List & More', 'British Airways', 'Birdays – Birthday reminder', 'Anatomy Learning - 3D Atlas', 'BLK - Swipe. Match. Chat.', 'Agar.io', 'BELONG Beating Cancer Together', 'Calendar+ Schedule Planner App', 'Barbie Life™', '1800 Contacts - Lens Store'}\n"
     ]
    }
   ],
   "source": [
    "app_names = set(dataset.iloc[:,0].values)\n",
    "print(app_names)"
   ]
  },
  {
   "cell_type": "code",
   "execution_count": 18,
   "metadata": {},
   "outputs": [],
   "source": [
    "count = []\n",
    "for i in range(len(app_names)):\n",
    "    posi_count = 0\n",
    "    negi_count = 0\n",
    "    neuti_count = 0\n",
    "    dataset_app = dataset_group.get_group(app_names.pop())\n",
    "    for value in dataset_app['Sentiment'].values:\n",
    "        if str(value) == 'Positive':\n",
    "            posi_count += 1\n",
    "        elif str(value) == 'Neutral':\n",
    "            neuti_count += 1\n",
    "        else:\n",
    "            negi_count += 1\n",
    "    count.append([posi_count,neuti_count,negi_count])"
   ]
  },
  {
   "cell_type": "code",
   "execution_count": 19,
   "metadata": {
    "collapsed": true
   },
   "outputs": [
    {
     "name": "stdout",
     "output_type": "stream",
     "text": [
      "[[34, 3, 3], [3, 0, 0], [47, 16, 8], [19, 10, 5], [11, 5, 9], [28, 39, 32], [17, 9, 7], [9, 10, 5], [55, 10, 6], [26, 5, 7], [2, 1, 0], [28, 4, 8], [5, 0, 1], [23, 11, 6], [20, 5, 10], [21, 8, 10], [16, 4, 9], [32, 4, 0], [18, 7, 10], [21, 9, 0], [37, 7, 16], [28, 8, 3], [27, 4, 4], [19, 5, 4], [15, 14, 11], [15, 1, 23], [53, 2, 1], [65, 6, 41], [15, 4, 4], [32, 3, 5], [8, 3, 10], [6, 0, 7], [1, 0, 0], [17, 0, 9], [16, 3, 17], [27, 2, 3], [8, 1, 2], [21, 2, 1], [22, 7, 4], [25, 2, 4], [54, 39, 27], [16, 3, 3], [137, 15, 19], [25, 6, 2], [29, 2, 6], [23, 4, 5], [14, 8, 5], [31, 1, 4], [18, 13, 9], [23, 10, 6], [0, 1, 0], [16, 8, 2], [30, 3, 2], [20, 8, 8], [34, 11, 9], [16, 8, 12], [1, 0, 0], [23, 2, 12], [1, 1, 0], [81, 24, 12], [23, 4, 16], [20, 11, 7], [10, 4, 1], [18, 1, 9], [56, 15, 15], [21, 10, 4], [13, 2, 1], [1, 1, 1], [30, 2, 5], [19, 2, 3], [31, 6, 0], [19, 16, 2], [25, 6, 1], [18, 10, 6], [25, 2, 9], [2, 2, 1], [13, 3, 3], [11, 8, 15], [1, 0, 0], [0, 2, 1], [23, 9, 7], [18, 4, 14], [46, 6, 28], [9, 0, 0], [53, 2, 34], [23, 8, 3], [42, 3, 2], [11, 4, 18], [22, 10, 4], [16, 0, 3], [81, 9, 7], [25, 5, 6], [27, 10, 1], [0, 0, 3], [9, 2, 5], [30, 5, 3], [69, 15, 27], [31, 8, 1], [4, 0, 0], [21, 10, 5], [38, 29, 25], [30, 1, 4], [14, 18, 8], [25, 9, 3], [5, 0, 0], [2, 0, 0], [24, 10, 7], [27, 9, 3], [18, 0, 13], [29, 7, 4], [30, 4, 3], [27, 9, 1], [3, 0, 2], [56, 9, 6], [23, 2, 0], [19, 2, 2], [24, 1, 8], [46, 4, 22], [13, 2, 7], [14, 5, 4], [24, 9, 6], [3, 2, 1], [65, 19, 33], [11, 1, 3], [30, 0, 1], [52, 1, 16], [1, 0, 0], [12, 1, 11], [23, 11, 2], [15, 3, 4], [31, 6, 2], [12, 3, 10], [24, 7, 5], [25, 6, 5], [10, 4, 2], [26, 4, 6], [14, 4, 3], [22, 4, 6], [16, 7, 12], [33, 8, 8], [1, 0, 2], [43, 9, 25], [35, 1, 2], [43, 10, 12], [8, 3, 10], [1, 0, 0], [26, 2, 9], [20, 3, 17], [54, 4, 5], [25, 1, 10], [2, 0, 0], [12, 4, 2], [17, 16, 7], [30, 6, 4], [14, 2, 7], [28, 4, 6], [21, 4, 1], [23, 1, 6], [124, 2, 147], [19, 1, 11], [6, 4, 0], [18, 9, 8], [23, 0, 12], [28, 5, 4], [21, 6, 4], [31, 4, 4], [25, 6, 6], [25, 6, 8], [18, 7, 9], [29, 0, 16], [24, 6, 0], [22, 11, 7], [27, 3, 8], [27, 3, 10], [45, 14, 16], [20, 0, 20], [30, 5, 1], [2, 1, 0], [23, 10, 5], [34, 5, 1], [33, 5, 5], [31, 1, 6], [11, 12, 11], [1, 0, 1], [5, 2, 0], [5, 8, 2], [6, 10, 11], [25, 4, 8], [18, 9, 6], [5, 4, 0], [33, 1, 5], [1, 0, 0], [16, 4, 14], [14, 9, 8], [8, 4, 1], [35, 2, 3], [17, 6, 1], [34, 24, 20], [83, 0, 71], [28, 14, 2], [2, 1, 1], [21, 2, 5], [7, 0, 2], [18, 9, 3], [16, 8, 1], [5, 5, 8], [3, 1, 0], [162, 22, 10], [25, 7, 8], [11, 8, 1], [14, 3, 7], [52, 8, 6], [19, 9, 8], [104, 9, 106], [33, 6, 59], [16, 0, 13], [1, 2, 1], [21, 9, 9], [24, 6, 9], [23, 10, 1], [22, 11, 4], [50, 9, 27], [32, 8, 10], [15, 10, 15], [10, 3, 7], [32, 0, 3], [26, 6, 7], [11, 12, 16], [13, 5, 2], [20, 28, 2], [100, 5, 40], [37, 8, 18], [53, 14, 28], [2, 2, 0], [11, 8, 21], [7, 0, 1], [13, 12, 9], [5, 0, 1], [34, 11, 3], [17, 0, 19], [15, 15, 10], [19, 1, 18], [18, 3, 6], [20, 8, 0], [6, 1, 3], [8, 11, 12], [10, 4, 4], [8, 2, 1], [1, 1, 0], [12, 5, 17], [1, 0, 0], [18, 3, 4], [39, 3, 31], [24, 2, 10], [74, 11, 13], [35, 1, 21], [38, 0, 1], [2, 0, 0], [57, 18, 9], [39, 39, 30], [25, 9, 6], [27, 2, 2], [119, 15, 28], [26, 6, 1], [27, 3, 3], [19, 8, 7], [20, 0, 14], [13, 1, 2], [17, 5, 7], [123, 27, 42], [17, 0, 3], [16, 0, 3], [32, 18, 19], [37, 3, 37], [23, 5, 8], [19, 18, 28], [1, 0, 0], [25, 9, 2], [14, 2, 15], [21, 9, 3], [22, 10, 13], [169, 24, 119], [32, 1, 7], [5, 3, 1], [8, 4, 2], [28, 4, 3], [19, 13, 4], [68, 2, 10], [36, 7, 19], [18, 23, 29], [31, 1, 6], [21, 9, 2], [32, 2, 8], [103, 0, 72], [19, 13, 7], [27, 4, 6], [30, 6, 1], [10, 0, 4], [29, 1, 5], [1, 1, 0], [26, 9, 5], [2, 0, 0], [2, 0, 1], [44, 4, 41], [19, 4, 9], [14, 4, 5], [20, 4, 19], [1, 0, 0], [58, 35, 27], [10, 0, 1], [30, 4, 1], [27, 6, 6], [26, 11, 2], [34, 3, 3], [13, 4, 5], [33, 3, 1], [28, 3, 5], [27, 9, 4], [60, 10, 66], [28, 8, 2], [1, 0, 0], [11, 6, 2], [64, 10, 6]]\n"
     ]
    }
   ],
   "source": [
    "print(count)"
   ]
  },
  {
   "cell_type": "code",
   "execution_count": 22,
   "metadata": {},
   "outputs": [],
   "source": [
    "user_review = {\n",
    "    0:'Negative',\n",
    "    1:'Positive',\n",
    "    2:'Neutral'\n",
    "}"
   ]
  },
  {
   "cell_type": "code",
   "execution_count": 26,
   "metadata": {},
   "outputs": [],
   "source": [
    "X = dataset.iloc[:,1:2].values"
   ]
  },
  {
   "cell_type": "code",
   "execution_count": 27,
   "metadata": {},
   "outputs": [
    {
     "name": "stdout",
     "output_type": "stream",
     "text": [
      "(13147, 1) (13147, 1)\n"
     ]
    }
   ],
   "source": [
    "print(X.shape,labels.shape)"
   ]
  },
  {
   "cell_type": "code",
   "execution_count": 31,
   "metadata": {},
   "outputs": [],
   "source": [
    "from sklearn.feature_extraction.text import TfidfVectorizer\n",
    "from nltk.tokenize import word_tokenize,sent_tokenize\n",
    "from nltk.corpus import stopwords\n",
    "from nltk.stem import PorterStemmer,WordNetLemmatizer\n",
    "from sklearn.metrics import accuracy_score"
   ]
  },
  {
   "cell_type": "code",
   "execution_count": 36,
   "metadata": {},
   "outputs": [],
   "source": [
    "def textPreprocessing(dataset):\n",
    "    stopwords_list = stopwords.words('english')\n",
    "    stopwords_list.extend([',','.','-','!','@'])\n",
    "    wnet = WordNetLemmatizer()\n",
    "    tfidf = TfidfVectorizer()\n",
    "    messageList = []\n",
    "    for i in dataset.index:\n",
    "        tokens = word_tokenize(dataset['Translated_Review'][i])\n",
    "        temp = []\n",
    "        for token in tokens:\n",
    "            if token.lower() not in stopwords_list:\n",
    "                temp.append(token.lower())\n",
    "        for i in range(len(temp)):\n",
    "            temp[i] = wnet.lemmatize(temp[i],pos='v')\n",
    "        msg = ' '.join(temp)\n",
    "        messageList.append(msg)\n",
    "    vect_array = tfidf.fit_transform(messageList)\n",
    "    return vect_array.toarray(),tfidf"
   ]
  },
  {
   "cell_type": "code",
   "execution_count": 37,
   "metadata": {},
   "outputs": [],
   "source": [
    "vect_array,tfidf = textPreprocessing(dataset)"
   ]
  },
  {
   "cell_type": "code",
   "execution_count": 38,
   "metadata": {},
   "outputs": [],
   "source": [
    "X_train,X_test,y_train,y_test = train_test_split(vect_array,labels,test_size=0.25)"
   ]
  },
  {
   "cell_type": "code",
   "execution_count": null,
   "metadata": {},
   "outputs": [
    {
     "name": "stderr",
     "output_type": "stream",
     "text": [
      "C:\\Users\\Akhilesh Kr. Pandey\\Anaconda3\\lib\\site-packages\\sklearn\\utils\\validation.py:761: DataConversionWarning: A column-vector y was passed when a 1d array was expected. Please change the shape of y to (n_samples, ), for example using ravel().\n",
      "  y = column_or_1d(y, warn=True)\n",
      "C:\\Users\\Akhilesh Kr. Pandey\\Anaconda3\\lib\\site-packages\\sklearn\\svm\\base.py:196: FutureWarning: The default value of gamma will change from 'auto' to 'scale' in version 0.22 to account better for unscaled features. Set gamma explicitly to 'auto' or 'scale' to avoid this warning.\n",
      "  \"avoid this warning.\", FutureWarning)\n"
     ]
    }
   ],
   "source": [
    "svm = SVC(kernel='rbf')\n",
    "svm.fit(X_train,y_train)"
   ]
  },
  {
   "cell_type": "code",
   "execution_count": null,
   "metadata": {},
   "outputs": [],
   "source": []
  }
 ],
 "metadata": {
  "kernelspec": {
   "display_name": "Python 3",
   "language": "python",
   "name": "python3"
  },
  "language_info": {
   "codemirror_mode": {
    "name": "ipython",
    "version": 3
   },
   "file_extension": ".py",
   "mimetype": "text/x-python",
   "name": "python",
   "nbconvert_exporter": "python",
   "pygments_lexer": "ipython3",
   "version": "3.7.3"
  }
 },
 "nbformat": 4,
 "nbformat_minor": 2
}
