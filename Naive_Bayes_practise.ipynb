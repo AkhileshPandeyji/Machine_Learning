{
 "cells": [
  {
   "cell_type": "code",
   "execution_count": 1,
   "metadata": {},
   "outputs": [],
   "source": [
    "import pandas as pd\n",
    "import numpy as np"
   ]
  },
  {
   "cell_type": "code",
   "execution_count": 2,
   "metadata": {},
   "outputs": [],
   "source": [
    "#target variable\n",
    "data = {}\n",
    "data['gender'] = ['male','male','male','male','female','female','female','female']\n",
    "#target features\n",
    "data['height'] = [6,5.92,5.58,5.92,5,5.42,5.68,5.75]\n",
    "data['weight'] = [81,86,77,74,45,68,58,68]\n",
    "data['foot_size'] = [12,11,12,10,6,8,7,9] "
   ]
  },
  {
   "cell_type": "code",
   "execution_count": 3,
   "metadata": {},
   "outputs": [],
   "source": [
    "df = pd.DataFrame(data)"
   ]
  },
  {
   "cell_type": "code",
   "execution_count": 4,
   "metadata": {},
   "outputs": [
    {
     "name": "stdout",
     "output_type": "stream",
     "text": [
      "   gender  height  weight  foot_size\n",
      "0    male    6.00      81         12\n",
      "1    male    5.92      86         11\n",
      "2    male    5.58      77         12\n",
      "3    male    5.92      74         10\n",
      "4  female    5.00      45          6\n"
     ]
    }
   ],
   "source": [
    "print(df.head())"
   ]
  },
  {
   "cell_type": "code",
   "execution_count": 5,
   "metadata": {},
   "outputs": [
    {
     "name": "stdout",
     "output_type": "stream",
     "text": [
      "         height     weight  foot_size\n",
      "count  8.000000   8.000000   8.000000\n",
      "mean   5.658750  69.625000   9.375000\n",
      "std    0.329261  13.190229   2.263846\n",
      "min    5.000000  45.000000   6.000000\n",
      "25%    5.540000  65.500000   7.750000\n",
      "50%    5.715000  71.000000   9.500000\n",
      "75%    5.920000  78.000000  11.250000\n",
      "max    6.000000  86.000000  12.000000\n"
     ]
    }
   ],
   "source": [
    "print(df.describe())"
   ]
  },
  {
   "cell_type": "code",
   "execution_count": 6,
   "metadata": {},
   "outputs": [],
   "source": [
    "male_dataset = df[df['gender'] == 'male']\n",
    "female_dataset = df[df['gender'] == 'female']"
   ]
  },
  {
   "cell_type": "code",
   "execution_count": 7,
   "metadata": {},
   "outputs": [
    {
     "name": "stdout",
     "output_type": "stream",
     "text": [
      "  gender  height  weight  foot_size\n",
      "0   male    6.00      81         12\n",
      "1   male    5.92      86         11\n",
      "2   male    5.58      77         12\n",
      "3   male    5.92      74         10\n"
     ]
    }
   ],
   "source": [
    "print(male_dataset)"
   ]
  },
  {
   "cell_type": "code",
   "execution_count": 8,
   "metadata": {},
   "outputs": [
    {
     "name": "stdout",
     "output_type": "stream",
     "text": [
      "   gender  height  weight  foot_size\n",
      "4  female    5.00      45          6\n",
      "5  female    5.42      68          8\n",
      "6  female    5.68      58          7\n",
      "7  female    5.75      68          9\n"
     ]
    }
   ],
   "source": [
    "print(female_dataset)"
   ]
  },
  {
   "cell_type": "code",
   "execution_count": 9,
   "metadata": {},
   "outputs": [],
   "source": [
    "count_male = male_dataset.describe()['height'].iloc[0]\n",
    "count_female = female_dataset.describe()['height'].iloc[0]\n",
    "total_count = count_male + count_female\n",
    "prob_male = count_male/total_count\n",
    "prob_female = count_female/total_count"
   ]
  },
  {
   "cell_type": "code",
   "execution_count": 10,
   "metadata": {},
   "outputs": [
    {
     "name": "stdout",
     "output_type": "stream",
     "text": [
      "4.0 4.0 8.0 0.5 0.5\n"
     ]
    }
   ],
   "source": [
    "print(count_male,count_female,total_count,prob_male,prob_female)"
   ]
  },
  {
   "cell_type": "code",
   "execution_count": 11,
   "metadata": {},
   "outputs": [],
   "source": [
    "mean_male_height = male_dataset.describe()['height'].iloc[1]\n",
    "mean_male_weight = male_dataset.describe()['weight'].iloc[1]\n",
    "mean_male_footsize = male_dataset.describe()['foot_size'].iloc[1]\n",
    "std_male_height = male_dataset.describe()['height'].iloc[2]\n",
    "std_male_weight = male_dataset.describe()['weight'].iloc[2]\n",
    "std_male_footsize = male_dataset.describe()['foot_size'].iloc[2]"
   ]
  },
  {
   "cell_type": "code",
   "execution_count": 12,
   "metadata": {},
   "outputs": [],
   "source": [
    "mean_female_height = female_dataset.describe()['height'].iloc[1]\n",
    "mean_female_weight = female_dataset.describe()['weight'].iloc[1]\n",
    "mean_female_footsize = female_dataset.describe()['foot_size'].iloc[1]\n",
    "std_female_height = female_dataset.describe()['height'].iloc[2]\n",
    "std_female_weight = female_dataset.describe()['weight'].iloc[2]\n",
    "std_female_footsize = female_dataset.describe()['foot_size'].iloc[2]"
   ]
  },
  {
   "cell_type": "code",
   "execution_count": 13,
   "metadata": {},
   "outputs": [
    {
     "name": "stdout",
     "output_type": "stream",
     "text": [
      "5.855 5.4625 11.25 7.5\n"
     ]
    }
   ],
   "source": [
    "print(mean_male_height,mean_female_height,mean_male_footsize,mean_female_footsize)"
   ]
  },
  {
   "cell_type": "code",
   "execution_count": 14,
   "metadata": {},
   "outputs": [],
   "source": [
    "mean_male_list = [mean_male_height,mean_male_weight,mean_male_footsize]\n",
    "std_male_list = [std_male_height,std_male_weight,std_male_footsize]"
   ]
  },
  {
   "cell_type": "code",
   "execution_count": 15,
   "metadata": {},
   "outputs": [],
   "source": [
    "mean_female_list = [mean_female_height,mean_female_weight,mean_female_footsize]\n",
    "std_female_list = [std_female_height,std_female_weight,std_female_footsize]"
   ]
  },
  {
   "cell_type": "code",
   "execution_count": 16,
   "metadata": {},
   "outputs": [
    {
     "name": "stdout",
     "output_type": "stream",
     "text": [
      "[5.855, 79.5, 11.25] [0.18717193521821937, 5.196152422706632, 0.9574271077563381] [5.4625, 59.75, 7.5] [0.3394480814498735, 10.90489186863706, 1.2909944487358056]\n"
     ]
    }
   ],
   "source": [
    "print(mean_male_list,std_male_list,mean_female_list,std_female_list)"
   ]
  },
  {
   "cell_type": "code",
   "execution_count": 17,
   "metadata": {},
   "outputs": [],
   "source": [
    "def likelihood(x,mean_male_list,std_male_list,mean_female_list,std_female_list):\n",
    "    male_likelihood = 1\n",
    "    female_likelihood = 1\n",
    "    for i in range(len(x)):\n",
    "        male_likelihood *= (1/((np.sqrt(2*np.pi))*std_male_list[i]))*(np.exp((-(x[i]-mean_male_list[i])**2)/(2*(std_male_list[i]**2))))\n",
    "        female_likelihood *= (1/((np.sqrt(2*np.pi))*std_female_list[i]))*(np.exp((-(x[i]-mean_female_list[i])**2)/(2*(std_female_list[i]**2))))\n",
    "    return male_likelihood,female_likelihood\n",
    "                            "
   ]
  },
  {
   "cell_type": "code",
   "execution_count": 18,
   "metadata": {},
   "outputs": [],
   "source": [
    "def result(male_likelihood,female_likelihood,prob_male,prob_female):\n",
    "    prob_ismale = male_likelihood * prob_male\n",
    "    prob_isfemale = female_likelihood * prob_female\n",
    "    per_male = round((prob_ismale/(prob_ismale+prob_isfemale))*100,3)\n",
    "    per_female = round((prob_isfemale/(prob_ismale+prob_isfemale))*100,3)\n",
    "    if prob_ismale > prob_isfemale:\n",
    "        print(f\"It's Male. by:{per_male}\")\n",
    "        return 0\n",
    "    else:\n",
    "        print(f\"It's Female. by:{per_female}\")\n",
    "        return 1"
   ]
  },
  {
   "cell_type": "code",
   "execution_count": 19,
   "metadata": {},
   "outputs": [],
   "source": [
    "idf = pd.DataFrame()"
   ]
  },
  {
   "cell_type": "code",
   "execution_count": 27,
   "metadata": {},
   "outputs": [],
   "source": [
    "idf['height'] = [6.0]\n",
    "idf['weight'] = [70]\n",
    "idf['foot_size'] = [9]"
   ]
  },
  {
   "cell_type": "code",
   "execution_count": 28,
   "metadata": {},
   "outputs": [
    {
     "name": "stdout",
     "output_type": "stream",
     "text": [
      "   height  weight  foot_size\n",
      "0     6.0      70          9\n"
     ]
    }
   ],
   "source": [
    "print(idf)"
   ]
  },
  {
   "cell_type": "code",
   "execution_count": 29,
   "metadata": {},
   "outputs": [],
   "source": [
    "x = [idf['height'].iloc[0],idf['weight'].iloc[0],idf['foot_size'].iloc[0]]"
   ]
  },
  {
   "cell_type": "code",
   "execution_count": 30,
   "metadata": {},
   "outputs": [
    {
     "name": "stdout",
     "output_type": "stream",
     "text": [
      "[6.0, 70, 9]\n"
     ]
    }
   ],
   "source": [
    "print(x)"
   ]
  },
  {
   "cell_type": "code",
   "execution_count": 31,
   "metadata": {},
   "outputs": [],
   "source": [
    "male_likelihood,female_likelihood = likelihood(x,mean_male_list,std_male_list,mean_female_list,std_female_list)"
   ]
  },
  {
   "cell_type": "code",
   "execution_count": 32,
   "metadata": {},
   "outputs": [
    {
     "name": "stdout",
     "output_type": "stream",
     "text": [
      "It's Female. by:67.411\n"
     ]
    }
   ],
   "source": [
    "res = result(male_likelihood,female_likelihood,prob_male,prob_female)"
   ]
  },
  {
   "cell_type": "code",
   "execution_count": 33,
   "metadata": {},
   "outputs": [
    {
     "name": "stdout",
     "output_type": "stream",
     "text": [
      "1 0.0006002093826706884 0.0012415243209475825\n"
     ]
    }
   ],
   "source": [
    "print(res,male_likelihood,female_likelihood)"
   ]
  },
  {
   "cell_type": "code",
   "execution_count": null,
   "metadata": {},
   "outputs": [],
   "source": []
  },
  {
   "cell_type": "code",
   "execution_count": null,
   "metadata": {},
   "outputs": [],
   "source": []
  }
 ],
 "metadata": {
  "kernelspec": {
   "display_name": "Python 3",
   "language": "python",
   "name": "python3"
  },
  "language_info": {
   "codemirror_mode": {
    "name": "ipython",
    "version": 3
   },
   "file_extension": ".py",
   "mimetype": "text/x-python",
   "name": "python",
   "nbconvert_exporter": "python",
   "pygments_lexer": "ipython3",
   "version": "3.7.3"
  }
 },
 "nbformat": 4,
 "nbformat_minor": 2
}
