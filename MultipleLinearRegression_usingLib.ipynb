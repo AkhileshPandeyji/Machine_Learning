{
 "cells": [
  {
   "cell_type": "code",
   "execution_count": 1,
   "metadata": {},
   "outputs": [],
   "source": [
    "import numpy as np\n",
    "import pandas as pd\n",
    "from sklearn.preprocessing import StandardScaler\n",
    "from sklearn.model_selection import train_test_split\n",
    "from sklearn.metrics import mean_squared_error,mean_absolute_error"
   ]
  },
  {
   "cell_type": "code",
   "execution_count": 2,
   "metadata": {},
   "outputs": [],
   "source": [
    "homedata =pd.read_csv('homedata.csv')\n",
    "homedata.shape\n",
    "homedata.head()\n",
    "homedata.columns\n",
    "X = homedata.iloc[:,[3,4,5,8]].values\n",
    "Y = homedata['price'].values"
   ]
  },
  {
   "cell_type": "code",
   "execution_count": 3,
   "metadata": {},
   "outputs": [],
   "source": [
    "sc = StandardScaler()"
   ]
  },
  {
   "cell_type": "code",
   "execution_count": 4,
   "metadata": {},
   "outputs": [
    {
     "name": "stderr",
     "output_type": "stream",
     "text": [
      "C:\\Users\\Akhilesh Kr. Pandey\\Anaconda3\\lib\\site-packages\\sklearn\\utils\\validation.py:595: DataConversionWarning: Data with input dtype int64 was converted to float64 by StandardScaler.\n",
      "  warnings.warn(msg, DataConversionWarning)\n",
      "C:\\Users\\Akhilesh Kr. Pandey\\Anaconda3\\lib\\site-packages\\sklearn\\utils\\validation.py:595: DataConversionWarning: Data with input dtype int64 was converted to float64 by StandardScaler.\n",
      "  warnings.warn(msg, DataConversionWarning)\n"
     ]
    }
   ],
   "source": [
    "X = sc.fit_transform(X)\n",
    "Y = sc.fit_transform(Y.reshape(-1,1))"
   ]
  },
  {
   "cell_type": "code",
   "execution_count": 5,
   "metadata": {},
   "outputs": [
    {
     "data": {
      "text/plain": [
       "array([[-0.39873715, -1.44746357, -0.97983502, -0.08717263],\n",
       "       [-0.39873715,  0.1756067 ,  0.53363434, -0.08717263],\n",
       "       [-1.47395936, -1.44746357, -1.42625404, -0.08717263],\n",
       "       ...,\n",
       "       [-1.47395936, -1.77207762, -1.15404732, -0.08717263],\n",
       "       [-0.39873715,  0.50022075, -0.52252773, -0.08717263],\n",
       "       [-1.47395936, -1.77207762, -1.15404732, -0.08717263]])"
      ]
     },
     "execution_count": 5,
     "metadata": {},
     "output_type": "execute_result"
    }
   ],
   "source": [
    "X"
   ]
  },
  {
   "cell_type": "code",
   "execution_count": 6,
   "metadata": {},
   "outputs": [],
   "source": [
    "x_train,x_test,y_train,y_test = train_test_split(X,Y,test_size=0.25,random_state=10)"
   ]
  },
  {
   "cell_type": "code",
   "execution_count": 7,
   "metadata": {},
   "outputs": [],
   "source": [
    "from sklearn.linear_model import LinearRegression"
   ]
  },
  {
   "cell_type": "code",
   "execution_count": 8,
   "metadata": {},
   "outputs": [],
   "source": [
    "reg = LinearRegression().fit(X,Y)"
   ]
  },
  {
   "cell_type": "code",
   "execution_count": 9,
   "metadata": {},
   "outputs": [],
   "source": [
    "y_pred = reg.predict(x_test)"
   ]
  },
  {
   "cell_type": "code",
   "execution_count": 10,
   "metadata": {},
   "outputs": [
    {
     "data": {
      "text/plain": [
       "0.46514472890271186"
      ]
     },
     "execution_count": 10,
     "metadata": {},
     "output_type": "execute_result"
    }
   ],
   "source": [
    "mean_squared_error(y_test,y_pred)"
   ]
  },
  {
   "cell_type": "code",
   "execution_count": 11,
   "metadata": {},
   "outputs": [],
   "source": [
    "transform_pred = sc.inverse_transform(y_pred)"
   ]
  },
  {
   "cell_type": "code",
   "execution_count": 12,
   "metadata": {},
   "outputs": [
    {
     "data": {
      "text/plain": [
       "array([[ 555433.12866004],\n",
       "       [ 545671.75394722],\n",
       "       [ 154328.19331036],\n",
       "       [ 351897.11731303],\n",
       "       [ 388514.71892724],\n",
       "       [ 329442.34749911],\n",
       "       [ 559864.36593002],\n",
       "       [ 359094.61825759],\n",
       "       [ 343837.34938825],\n",
       "       [1472711.27488195]])"
      ]
     },
     "execution_count": 12,
     "metadata": {},
     "output_type": "execute_result"
    }
   ],
   "source": [
    "transform_pred[:10]"
   ]
  },
  {
   "cell_type": "code",
   "execution_count": 13,
   "metadata": {},
   "outputs": [],
   "source": [
    "y_test_transf = sc.inverse_transform(y_test)"
   ]
  },
  {
   "cell_type": "code",
   "execution_count": 14,
   "metadata": {},
   "outputs": [
    {
     "data": {
      "text/plain": [
       "array([[ 323000.],\n",
       "       [ 690000.],\n",
       "       [ 142000.],\n",
       "       [ 560000.],\n",
       "       [ 545000.],\n",
       "       [ 259500.],\n",
       "       [ 420000.],\n",
       "       [ 305000.],\n",
       "       [ 261500.],\n",
       "       [1155000.]])"
      ]
     },
     "execution_count": 14,
     "metadata": {},
     "output_type": "execute_result"
    }
   ],
   "source": [
    "y_test_transf[:10]"
   ]
  },
  {
   "cell_type": "code",
   "execution_count": 15,
   "metadata": {},
   "outputs": [],
   "source": [
    "mse = mean_squared_error(y_test_transf,transform_pred)"
   ]
  },
  {
   "cell_type": "code",
   "execution_count": 16,
   "metadata": {},
   "outputs": [],
   "source": [
    "rmse = np.sqrt(mse)"
   ]
  },
  {
   "cell_type": "code",
   "execution_count": 17,
   "metadata": {},
   "outputs": [
    {
     "name": "stdout",
     "output_type": "stream",
     "text": [
      "62690411962.41152 250380.53431209768\n"
     ]
    }
   ],
   "source": [
    "print(mse,rmse)"
   ]
  },
  {
   "cell_type": "code",
   "execution_count": 18,
   "metadata": {},
   "outputs": [
    {
     "name": "stdout",
     "output_type": "stream",
     "text": [
      "Actual: [323000.] , Prediction: [555433.12866004]\n",
      "Actual: [690000.] , Prediction: [545671.75394722]\n",
      "Actual: [142000.] , Prediction: [154328.19331036]\n",
      "Actual: [560000.] , Prediction: [351897.11731303]\n",
      "Actual: [545000.] , Prediction: [388514.71892724]\n",
      "Actual: [259500.] , Prediction: [329442.34749911]\n",
      "Actual: [420000.] , Prediction: [559864.36593002]\n",
      "Actual: [305000.] , Prediction: [359094.61825759]\n",
      "Actual: [261500.] , Prediction: [343837.34938825]\n",
      "Actual: [1155000.] , Prediction: [1472711.27488195]\n"
     ]
    }
   ],
   "source": [
    "for i in range(10):\n",
    "    print('Actual: {} , Prediction: {}'.format(y_test_transf[i],transform_pred[i]))"
   ]
  },
  {
   "cell_type": "code",
   "execution_count": null,
   "metadata": {},
   "outputs": [],
   "source": []
  }
 ],
 "metadata": {
  "kernelspec": {
   "display_name": "Python 3",
   "language": "python",
   "name": "python3"
  },
  "language_info": {
   "codemirror_mode": {
    "name": "ipython",
    "version": 3
   },
   "file_extension": ".py",
   "mimetype": "text/x-python",
   "name": "python",
   "nbconvert_exporter": "python",
   "pygments_lexer": "ipython3",
   "version": "3.7.3"
  }
 },
 "nbformat": 4,
 "nbformat_minor": 2
}
